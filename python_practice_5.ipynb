{
  "nbformat": 4,
  "nbformat_minor": 0,
  "metadata": {
    "colab": {
      "provenance": []
    },
    "kernelspec": {
      "name": "python3",
      "display_name": "Python 3"
    },
    "language_info": {
      "name": "python"
    }
  },
  "cells": [
    {
      "cell_type": "markdown",
      "source": [
        "# I. OOP"
      ],
      "metadata": {
        "id": "5qV_sehzFCTp"
      }
    },
    {
      "cell_type": "markdown",
      "source": [
        "1. (6б). Створіть клас Animal, додайте три атрибути, один з яких має значення за замовчуванням та два методи на свій розсуд."
      ],
      "metadata": {
        "id": "tx_U_hOALyfg"
      }
    },
    {
      "cell_type": "code",
      "source": [
        "class Animal:\n",
        "  def __init__(self, name, size, legs=4):\n",
        "    self.name = name\n",
        "    self.size = size\n",
        "    self.legs = legs\n",
        "\n",
        "  def print_description(self):\n",
        "    print(f\"{self.size} {self.name} with {self.legs} legs\")\n",
        "    return\n",
        "\n",
        "  def grow(self):\n",
        "    if self.size == \"small\":\n",
        "      self.size = \"medium\"\n",
        "    elif self.size == \"medium\":\n",
        "      self.size = \"big\"\n",
        "    return"
      ],
      "metadata": {
        "id": "-Vf895KaL88N"
      },
      "execution_count": 12,
      "outputs": []
    },
    {
      "cell_type": "markdown",
      "source": [
        "2. (2б). Створіть два обʼєкти цього класу, де один з обʼєктів створюється із дефолтним значенням атрибуту. На одному обʼєкті отримайте значення його атрибуту, а на іншому викличте один з його методів."
      ],
      "metadata": {
        "id": "X_UlOMB0L93w"
      }
    },
    {
      "cell_type": "code",
      "source": [
        "cheetah = Animal('cheetah', 'big')\n",
        "snake = Animal('snake', 'small', 0)\n",
        "\n",
        "print(cheetah.legs)\n",
        "snake.grow()\n",
        "snake.print_description()"
      ],
      "metadata": {
        "id": "7gBu0ESOMCpG",
        "colab": {
          "base_uri": "https://localhost:8080/"
        },
        "outputId": "dd525b2d-6a8a-4952-9791-652681da89d6"
      },
      "execution_count": 13,
      "outputs": [
        {
          "output_type": "stream",
          "name": "stdout",
          "text": [
            "4\n",
            "medium snake with 0 legs\n"
          ]
        }
      ]
    },
    {
      "cell_type": "markdown",
      "source": [
        "3. (5б). Створіть клас, де атрибути мають різні рівні доступу. Спробуйте отримати їхні значення та опишіть результати."
      ],
      "metadata": {
        "id": "HoqSCZt1MHn5"
      }
    },
    {
      "cell_type": "code",
      "source": [
        "class Accesslvls:\n",
        "  def __init__(self):\n",
        "    self.__private_attr = \"private attribute\"\n",
        "    self._protected_attr = \"protected attribute\"\n",
        "    self.public_attr = \"public attribute\"\n",
        "\n",
        "class_obj = Accesslvls()\n",
        "\n",
        "print(class_obj.public_attr)\n",
        "\n",
        "try:\n",
        "    print(class_obj._protected_attr)\n",
        "except:\n",
        "    print(\"Error getting protected attribute\")\n",
        "\n",
        "try:\n",
        "    print(class_obj.__private_attr)\n",
        "except:\n",
        "    print(\"Error getting private attribute\")\n"
      ],
      "metadata": {
        "id": "r9b3vJxBMSPV",
        "colab": {
          "base_uri": "https://localhost:8080/"
        },
        "outputId": "ebcf008a-84da-4dbb-ed54-d957f571f3c7"
      },
      "execution_count": 14,
      "outputs": [
        {
          "output_type": "stream",
          "name": "stdout",
          "text": [
            "public attribute\n",
            "protected attribute\n",
            "Error getting private attribute\n"
          ]
        }
      ]
    },
    {
      "cell_type": "markdown",
      "source": [
        "Результати:\n",
        "\n",
        "Публічний на захищений атрибути виводяться без проблем, а при спробі доступу до приватного атрибуту отримуємо помилку"
      ],
      "metadata": {
        "id": "avwejoCZE5nx"
      }
    },
    {
      "cell_type": "markdown",
      "source": [
        "4. (7б). Як ви розумієте термін self? Для чого використовується метод __init __?"
      ],
      "metadata": {
        "id": "5op2m2vgMSkZ"
      }
    },
    {
      "cell_type": "markdown",
      "source": [
        "Self це посилання на поточний об'єкт класу, який дозволяє звертатись до полів та методів цього об'єкта.\n",
        "Метод __init__ це конструктор класу, який потрібен для ініціалізації нового об'єкта."
      ],
      "metadata": {
        "id": "DyiPqNRvMasx"
      }
    },
    {
      "cell_type": "markdown",
      "source": [
        "5. (9б). Створіть клас Фігура без атрибутів, з методом get_area для отримання площі фігури, що повертає 0 та __add __, який приймає self та other в якості аргументів, а повертає суму площин фігур self та other."
      ],
      "metadata": {
        "id": "-6X8EGfjMd2y"
      }
    },
    {
      "cell_type": "code",
      "source": [
        "class Figure:\n",
        "\n",
        "  def get_area(self):\n",
        "    return 0\n",
        "\n",
        "  def __add__(self, other):\n",
        "    return self.get_area() + other.get_area()"
      ],
      "metadata": {
        "id": "4rvO_wYUMaEr"
      },
      "execution_count": 20,
      "outputs": []
    },
    {
      "cell_type": "markdown",
      "source": [
        "6. (11б). Створіть 2 дочірніх класи від Фігури: Трикутник та Коло, які мають атрибути, необхідні для розрахунку площин. Визначте метод get_area в кожному з них так, щоби вони розраховували площу в залежності від формули для кожного типу фігури. Створіть обʼєкт класу Трикутник та обʼєкт класу Коло. Виконайте операцію суми за допомогою оператора + між ними."
      ],
      "metadata": {
        "id": "SFcKnnv5Mo_z"
      }
    },
    {
      "cell_type": "code",
      "source": [
        "import math\n",
        "\n",
        "class Triangle(Figure):\n",
        "\n",
        "  def __init__(self, side, height):\n",
        "    self.side = side\n",
        "    self.height = height\n",
        "\n",
        "  def get_area(self):\n",
        "    return 0.5 * self.side * self.height\n",
        "\n",
        "class Circle(Figure):\n",
        "\n",
        "  def __init__(self, radius):\n",
        "    self.radius = radius\n",
        "\n",
        "  def get_area(self):\n",
        "    return math.pi * self.radius ** 2\n",
        "\n",
        "triangle = Triangle(4, 5)\n",
        "circle = Circle(4)\n",
        "print(f\"Combined area: {triangle + circle}\")"
      ],
      "metadata": {
        "id": "H3GVNr69Muf3",
        "colab": {
          "base_uri": "https://localhost:8080/"
        },
        "outputId": "b2b4490c-54fd-4eca-a298-07c3c7a941ae"
      },
      "execution_count": 21,
      "outputs": [
        {
          "output_type": "stream",
          "name": "stdout",
          "text": [
            "Combined area: 60.26548245743669\n"
          ]
        }
      ]
    },
    {
      "cell_type": "markdown",
      "source": [
        "7. (3б). Продемонструйте різницю між isinstance та issubclass."
      ],
      "metadata": {
        "id": "HCvR206YMvLK"
      }
    },
    {
      "cell_type": "code",
      "source": [
        "print(\"Is the triangle obj a Triangle? \", isinstance(triangle, Triangle))\n",
        "print(\"Is the triangle obj a Figure? \", isinstance(triangle, Figure))\n",
        "print(\"Is Triangle a subclass of Figure? \", issubclass(Triangle, Figure))"
      ],
      "metadata": {
        "id": "L_V1bBvDM0GN",
        "colab": {
          "base_uri": "https://localhost:8080/"
        },
        "outputId": "096aa1de-b9c1-4089-9b34-5ad1093a2177"
      },
      "execution_count": 23,
      "outputs": [
        {
          "output_type": "stream",
          "name": "stdout",
          "text": [
            "Is the triangle obj a Triangle?  True\n",
            "Is the triangle obj a Figure?  True\n",
            "Is Triangle a subclass of Figure?  True\n"
          ]
        }
      ]
    },
    {
      "cell_type": "markdown",
      "source": [
        "8. (13б). Створіть клас BankAccount з приватними атрибутами balance та account_number. Реалізуйте методи поповнення та зняття коштів, забезпечивши належну інкапсуляцію. Підказка: використовуйте декоратори property та setter."
      ],
      "metadata": {
        "id": "jjsaBZ-iM0Qq"
      }
    },
    {
      "cell_type": "code",
      "source": [
        "class BankAccount:\n",
        "\n",
        "  def __init__(self, balance=0, account_number=\"\"):\n",
        "    self.__balance = balance\n",
        "    self.__account_number = account_number\n",
        "\n",
        "  @property\n",
        "  def balance(self):\n",
        "    return self.__balance\n",
        "\n",
        "  @property\n",
        "  def account_number(self):\n",
        "    return self.__account_number\n",
        "\n",
        "  @balance.setter\n",
        "  def balance(self, amount):\n",
        "    if amount >= 0:\n",
        "        self.__balance = amount\n",
        "    else:\n",
        "        print(f\"Error: Balance can't be negative\")\n",
        "\n",
        "\n",
        "  def top_up(self, amount):\n",
        "    self.__balance += amount\n",
        "\n",
        "  def withdraw(self, amount):\n",
        "    if self.__balance >= amount:\n",
        "      self.__balance -= amount\n",
        "    else:\n",
        "      print(f\"Error withdrawing {amount}. Too low balance.\")\n",
        "\n",
        "\n",
        "account1 = BankAccount()\n",
        "print(\"Balance after creation: \", account1.balance)\n",
        "account1.top_up(100)\n",
        "print(\"Balance after adding 100: \", account1.balance)\n",
        "account1.withdraw(60)\n",
        "print(\"Balance after withdrawing 60: \", account1.balance)"
      ],
      "metadata": {
        "id": "xCvZ7lh8M7YA",
        "colab": {
          "base_uri": "https://localhost:8080/"
        },
        "outputId": "ad8a035e-689e-4ba3-effe-76f21745cf47"
      },
      "execution_count": 26,
      "outputs": [
        {
          "output_type": "stream",
          "name": "stdout",
          "text": [
            "Balance after creation:  0\n",
            "Balance after adding 100:  100\n",
            "Balance after withdrawing 60:  40\n"
          ]
        }
      ]
    },
    {
      "cell_type": "markdown",
      "source": [
        "9. (11б). Створіть клас Library, який містить список об'єктів типу Book. Реалізуйте методи для додавання книги, видалення книги та відображення списку книг."
      ],
      "metadata": {
        "id": "tIzL2SJTM8ft"
      }
    },
    {
      "cell_type": "code",
      "source": [
        "class Book:\n",
        "    def __init__(self, title, author):\n",
        "        self.title = title\n",
        "        self.author = author\n",
        "\n",
        "class Library:\n",
        "    def __init__(self):\n",
        "        self.books = []\n",
        "\n",
        "    def add_book(self, book):\n",
        "      self.books.append(book)\n",
        "\n",
        "    def add_book(self, title, author):\n",
        "      self.books.append(Book(title, author))\n",
        "\n",
        "    def remove_book(self, title):\n",
        "      for book in self.books:\n",
        "        if book.title == title:\n",
        "          self.books.remove(book)\n",
        "          return\n",
        "      print(f\"Error: book '{title}' not found\")\n",
        "\n",
        "    def display_books(self):\n",
        "        if not self.books:\n",
        "            print(\"The library is empty\")\n",
        "        else:\n",
        "            print(\"Currently in the library:\")\n",
        "            for book in self.books:\n",
        "                print(f\"'{book.title}' by {book.author}\")\n",
        "\n",
        "lib = Library()\n",
        "lib.add_book('Pride and Prejudice', 'Jane Austin')\n",
        "lib.display_books()"
      ],
      "metadata": {
        "id": "HWxfJKLtNAUZ",
        "colab": {
          "base_uri": "https://localhost:8080/"
        },
        "outputId": "42a7ca88-157b-4c49-f1cf-cb8e6d918750"
      },
      "execution_count": 27,
      "outputs": [
        {
          "output_type": "stream",
          "name": "stdout",
          "text": [
            "Currently in the library:\n",
            "'Pride and Prejudice' by Jane Austin\n"
          ]
        }
      ]
    },
    {
      "cell_type": "markdown",
      "source": [
        "10. (13б). Створіть клас Person з атрибутами name та age. Створіть ще один клас Employee з такими атрибутами, як department та salary. Створіть клас Manager, який успадковує обидва класи Person та Employee. Продемонструйте використання множинної спадковості, створивши обʼєкт класу Manager та отримавши mro для цього класу."
      ],
      "metadata": {
        "id": "lmV8pAwwNIqu"
      }
    },
    {
      "cell_type": "code",
      "source": [
        "class Person:\n",
        "    def __init__(self, name, age):\n",
        "        self.name = name\n",
        "        self.age = age\n",
        "\n",
        "\n",
        "class Employee:\n",
        "    def __init__(self, department, salary):\n",
        "        self.department = department\n",
        "        self.salary = salary\n",
        "\n",
        "\n",
        "class Manager(Person, Employee):\n",
        "    def __init__(self, name, age, department, salary):\n",
        "        Person.__init__(self, name, age)\n",
        "        Employee.__init__(self, department, salary)\n",
        "\n",
        "\n",
        "manager = Manager(\"Ivan Mazepa\", 35, \"Sales\", 40000)\n",
        "\n",
        "print(\"name:\", manager.name)\n",
        "print(\"age:\", manager.age)\n",
        "print(\"department:\", manager.department)\n",
        "print(\"salary:\", manager.salary)\n",
        "\n",
        "print(\"mro for Manager:\", Manager.mro())"
      ],
      "metadata": {
        "id": "R49grKlWNPeN",
        "colab": {
          "base_uri": "https://localhost:8080/"
        },
        "outputId": "31325e65-a5a7-4b48-fa2b-8e41fa79bbe1"
      },
      "execution_count": 29,
      "outputs": [
        {
          "output_type": "stream",
          "name": "stdout",
          "text": [
            "name: Ivan Mazepa\n",
            "age: 35\n",
            "department: Sales\n",
            "salary: 40000\n",
            "mro for Manager: [<class '__main__.Manager'>, <class '__main__.Person'>, <class '__main__.Employee'>, <class 'object'>]\n"
          ]
        }
      ]
    },
    {
      "cell_type": "markdown",
      "source": [
        "# II. Iterator"
      ],
      "metadata": {
        "id": "dIJyUiNBFG8G"
      }
    },
    {
      "cell_type": "markdown",
      "source": [
        "11. (4б). Визначте рядок(str) з 4ма різними за значенням символами. Створіть ітератор на основі цього рядка. Викличте 5 разів функцію next на ітераторі, 4ри перших з них огорніть у ф-цію print()."
      ],
      "metadata": {
        "id": "13vsm0NyKIzL"
      }
    },
    {
      "cell_type": "code",
      "source": [
        "string11 = \"abcd\"\n",
        "\n",
        "it = iter(string11)\n",
        "\n",
        "for _ in range(4):\n",
        "    print(next(it))\n",
        "\n",
        "try:\n",
        "  next(it)\n",
        "except:\n",
        "  print(\"StopIteration error occured. No next symbol\")"
      ],
      "metadata": {
        "id": "81ntabAkKuz-",
        "colab": {
          "base_uri": "https://localhost:8080/"
        },
        "outputId": "9f64b519-7e0b-46df-8e5b-f3802e426c60"
      },
      "execution_count": 33,
      "outputs": [
        {
          "output_type": "stream",
          "name": "stdout",
          "text": [
            "a\n",
            "b\n",
            "c\n",
            "d\n",
            "StopIteration error occured. No next symbol\n"
          ]
        }
      ]
    },
    {
      "cell_type": "markdown",
      "source": [
        "А що якщо викликати цю ж функцію на рядку?"
      ],
      "metadata": {
        "id": "aekWHGXOLRsO"
      }
    },
    {
      "cell_type": "code",
      "source": [
        "next(string11)"
      ],
      "metadata": {
        "id": "mxATGsErLV1i",
        "colab": {
          "base_uri": "https://localhost:8080/",
          "height": 141
        },
        "outputId": "fcfe0ae2-5a1a-467e-c0e7-16ebb658973a"
      },
      "execution_count": 34,
      "outputs": [
        {
          "output_type": "error",
          "ename": "TypeError",
          "evalue": "'str' object is not an iterator",
          "traceback": [
            "\u001b[0;31m---------------------------------------------------------------------------\u001b[0m",
            "\u001b[0;31mTypeError\u001b[0m                                 Traceback (most recent call last)",
            "\u001b[0;32m<ipython-input-34-b11b45572d35>\u001b[0m in \u001b[0;36m<cell line: 1>\u001b[0;34m()\u001b[0m\n\u001b[0;32m----> 1\u001b[0;31m \u001b[0mnext\u001b[0m\u001b[0;34m(\u001b[0m\u001b[0mstring11\u001b[0m\u001b[0;34m)\u001b[0m\u001b[0;34m\u001b[0m\u001b[0;34m\u001b[0m\u001b[0m\n\u001b[0m",
            "\u001b[0;31mTypeError\u001b[0m: 'str' object is not an iterator"
          ]
        }
      ]
    },
    {
      "cell_type": "markdown",
      "source": [
        " 12. (5б). Опишіть своїми словами в одному реченні, як ви розумієте різницю між ітерабельними обʼєктами та ітераторами (можна на прикладі)."
      ],
      "metadata": {
        "id": "XwtMEopwJ4pH"
      }
    },
    {
      "cell_type": "markdown",
      "source": [],
      "metadata": {
        "id": "KkqCWodpoWoe"
      }
    },
    {
      "cell_type": "markdown",
      "source": [
        "Ітерабельні об'єкти - такі, що слугують контейнерами для певної множини об'єктів, які можна перебирати\n",
        "Ітератори - об'єкти які призначені для ітерації по ітерабельним об'єктам, запам'ятовують свій стан під час ітерації, та можуть доступатись до наступного об'єкта через next()."
      ],
      "metadata": {
        "id": "-sHrODc3KFn8"
      }
    },
    {
      "cell_type": "markdown",
      "source": [
        "13. (11б). Створіть клас, що має визначений Iterator Protocol та при кожному виклику next повертає літери англійської абетки, поки вони не вичерпаються."
      ],
      "metadata": {
        "id": "E9qJWmNbK8Gl"
      }
    },
    {
      "cell_type": "code",
      "source": [
        "class AlphabetIter:\n",
        "    def __init__(self):\n",
        "        self.current_char = ord('a') - 1\n",
        "\n",
        "    def __iter__(self):\n",
        "        return self\n",
        "\n",
        "    def __next__(self):\n",
        "\n",
        "        self.current_char += 1\n",
        "\n",
        "        if self.current_char <= ord('z'):\n",
        "            return chr(self.current_char)\n",
        "        else:\n",
        "            return \"No more letters in the alphabet!\"\n",
        "\n",
        "iterator = AlphabetIter()\n",
        "\n",
        "for _ in range(30):\n",
        "    print(next(iterator))"
      ],
      "metadata": {
        "id": "cqx-g_RsLo6I",
        "colab": {
          "base_uri": "https://localhost:8080/"
        },
        "outputId": "dc315943-6c5b-4ebb-d490-220f139981c5"
      },
      "execution_count": 42,
      "outputs": [
        {
          "output_type": "stream",
          "name": "stdout",
          "text": [
            "a\n",
            "b\n",
            "c\n",
            "d\n",
            "e\n",
            "f\n",
            "g\n",
            "h\n",
            "i\n",
            "j\n",
            "k\n",
            "l\n",
            "m\n",
            "n\n",
            "o\n",
            "p\n",
            "q\n",
            "r\n",
            "s\n",
            "t\n",
            "u\n",
            "v\n",
            "w\n",
            "x\n",
            "y\n",
            "z\n",
            "No more letters in the alphabet!\n",
            "No more letters in the alphabet!\n",
            "No more letters in the alphabet!\n",
            "No more letters in the alphabet!\n"
          ]
        }
      ]
    },
    {
      "cell_type": "markdown",
      "source": [
        "# Вітаю! Ви велика(ий) молодець, що впоралась(вся). Похваліть себе та побалуйте чимось приємним. Я Вами пишаюся."
      ],
      "metadata": {
        "id": "Z3E3S_s1Fv7-"
      }
    }
  ]
}